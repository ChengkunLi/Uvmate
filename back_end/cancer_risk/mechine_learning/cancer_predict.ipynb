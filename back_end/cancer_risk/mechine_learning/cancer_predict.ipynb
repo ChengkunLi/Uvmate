{
 "cells": [
  {
   "cell_type": "markdown",
   "id": "european-morocco",
   "metadata": {},
   "source": [
    "## Import Libraries"
   ]
  },
  {
   "cell_type": "code",
   "execution_count": 1,
   "id": "hired-sampling",
   "metadata": {},
   "outputs": [],
   "source": [
    "import pandas as pd\n",
    "import ast\n",
    "from collections import defaultdict\n",
    "from math import sin, cos, sqrt, atan2, radians\n",
    "import numpy as np\n",
    "from sklearn.linear_model import LinearRegression"
   ]
  },
  {
   "cell_type": "markdown",
   "id": "dutch-sandwich",
   "metadata": {},
   "source": [
    "# Task 1"
   ]
  },
  {
   "cell_type": "markdown",
   "id": "collect-explorer",
   "metadata": {},
   "source": [
    "## 1. Import Raw Data and Locate Anomalies"
   ]
  },
  {
   "cell_type": "code",
   "execution_count": 2,
   "id": "ordered-disposal",
   "metadata": {
    "scrolled": true
   },
   "outputs": [
    {
     "data": {
      "text/html": [
       "<div>\n",
       "<style scoped>\n",
       "    .dataframe tbody tr th:only-of-type {\n",
       "        vertical-align: middle;\n",
       "    }\n",
       "\n",
       "    .dataframe tbody tr th {\n",
       "        vertical-align: top;\n",
       "    }\n",
       "\n",
       "    .dataframe thead th {\n",
       "        text-align: right;\n",
       "    }\n",
       "</style>\n",
       "<table border=\"1\" class=\"dataframe\">\n",
       "  <thead>\n",
       "    <tr style=\"text-align: right;\">\n",
       "      <th></th>\n",
       "      <th>sales_id</th>\n",
       "      <th>date</th>\n",
       "      <th>time</th>\n",
       "      <th>shopping_cart</th>\n",
       "      <th>price</th>\n",
       "      <th>parcel_size</th>\n",
       "      <th>Customer_lat</th>\n",
       "      <th>Customer_long</th>\n",
       "      <th>isLoyaltyProgram</th>\n",
       "      <th>nearest_storehouse_id</th>\n",
       "      <th>nearest_storehouse</th>\n",
       "      <th>dist_to_nearest_storehouse</th>\n",
       "      <th>delivery_cost</th>\n",
       "    </tr>\n",
       "  </thead>\n",
       "  <tbody>\n",
       "    <tr>\n",
       "      <th>0</th>\n",
       "      <td>ORD0075570</td>\n",
       "      <td>2021-11-02</td>\n",
       "      <td>15:08:36</td>\n",
       "      <td>[('wardrobe', 3), ('Chair', 4), ('side_table',...</td>\n",
       "      <td>1518.43</td>\n",
       "      <td>small</td>\n",
       "      <td>-38.13373</td>\n",
       "      <td>145.14894</td>\n",
       "      <td>0</td>\n",
       "      <td>4</td>\n",
       "      <td>Sunshine</td>\n",
       "      <td>41.20</td>\n",
       "      <td>6.4665</td>\n",
       "    </tr>\n",
       "    <tr>\n",
       "      <th>1</th>\n",
       "      <td>ORD0084457</td>\n",
       "      <td>13/09/2019</td>\n",
       "      <td>02:28:31</td>\n",
       "      <td>[('side_table', 4), ('sofa', 1), ('wardrobe', 3)]</td>\n",
       "      <td>1385.05</td>\n",
       "      <td>S</td>\n",
       "      <td>-37.69209</td>\n",
       "      <td>145.80813</td>\n",
       "      <td>0</td>\n",
       "      <td>4</td>\n",
       "      <td>Sunshine</td>\n",
       "      <td>79.89</td>\n",
       "      <td>5.9625</td>\n",
       "    </tr>\n",
       "    <tr>\n",
       "      <th>2</th>\n",
       "      <td>ORD0085720</td>\n",
       "      <td>03/12/2020</td>\n",
       "      <td>03:47:13</td>\n",
       "      <td>[('wardrobe', 1), ('mattress', 1), ('side_tabl...</td>\n",
       "      <td>2035.83</td>\n",
       "      <td>medium</td>\n",
       "      <td>145.83508</td>\n",
       "      <td>-37.47753</td>\n",
       "      <td>1</td>\n",
       "      <td>4</td>\n",
       "      <td>Sunshine</td>\n",
       "      <td>89.41</td>\n",
       "      <td>6.2415</td>\n",
       "    </tr>\n",
       "    <tr>\n",
       "      <th>3</th>\n",
       "      <td>ORD0033628</td>\n",
       "      <td>24/07/2021</td>\n",
       "      <td>18:27:59</td>\n",
       "      <td>[('Study_table', 2), ('Dining_table', 4), ('be...</td>\n",
       "      <td>964.14</td>\n",
       "      <td>S</td>\n",
       "      <td>-38.08069</td>\n",
       "      <td>145.56411</td>\n",
       "      <td>1</td>\n",
       "      <td>4</td>\n",
       "      <td>Sunshine</td>\n",
       "      <td>64.40</td>\n",
       "      <td>6.5745</td>\n",
       "    </tr>\n",
       "    <tr>\n",
       "      <th>4</th>\n",
       "      <td>ORD0052321</td>\n",
       "      <td>2018-07-08</td>\n",
       "      <td>17:36:31</td>\n",
       "      <td>[('side_table', 2), ('Dining_table', 2), ('mat...</td>\n",
       "      <td>3878.50</td>\n",
       "      <td>medium</td>\n",
       "      <td>-37.73802</td>\n",
       "      <td>146.00025</td>\n",
       "      <td>1</td>\n",
       "      <td>4</td>\n",
       "      <td>Sunshine</td>\n",
       "      <td>95.97</td>\n",
       "      <td>6.4125</td>\n",
       "    </tr>\n",
       "  </tbody>\n",
       "</table>\n",
       "</div>"
      ],
      "text/plain": [
       "     sales_id        date      time  \\\n",
       "0  ORD0075570  2021-11-02  15:08:36   \n",
       "1  ORD0084457  13/09/2019  02:28:31   \n",
       "2  ORD0085720  03/12/2020  03:47:13   \n",
       "3  ORD0033628  24/07/2021  18:27:59   \n",
       "4  ORD0052321  2018-07-08  17:36:31   \n",
       "\n",
       "                                       shopping_cart    price parcel_size  \\\n",
       "0  [('wardrobe', 3), ('Chair', 4), ('side_table',...  1518.43       small   \n",
       "1  [('side_table', 4), ('sofa', 1), ('wardrobe', 3)]  1385.05           S   \n",
       "2  [('wardrobe', 1), ('mattress', 1), ('side_tabl...  2035.83      medium   \n",
       "3  [('Study_table', 2), ('Dining_table', 4), ('be...   964.14           S   \n",
       "4  [('side_table', 2), ('Dining_table', 2), ('mat...  3878.50      medium   \n",
       "\n",
       "   Customer_lat  Customer_long  isLoyaltyProgram  nearest_storehouse_id  \\\n",
       "0     -38.13373      145.14894                 0                      4   \n",
       "1     -37.69209      145.80813                 0                      4   \n",
       "2     145.83508      -37.47753                 1                      4   \n",
       "3     -38.08069      145.56411                 1                      4   \n",
       "4     -37.73802      146.00025                 1                      4   \n",
       "\n",
       "  nearest_storehouse  dist_to_nearest_storehouse  delivery_cost  \n",
       "0           Sunshine                       41.20         6.4665  \n",
       "1           Sunshine                       79.89         5.9625  \n",
       "2           Sunshine                       89.41         6.2415  \n",
       "3           Sunshine                       64.40         6.5745  \n",
       "4           Sunshine                       95.97         6.4125  "
      ]
     },
     "execution_count": 2,
     "metadata": {},
     "output_type": "execute_result"
    }
   ],
   "source": [
    "dirty = pd.read_csv(\"/Users/chengkun/Desktop/5196ass2/31951996_dirty_data.csv\")\n"
   ]
  },
  {
   "cell_type": "markdown",
   "id": "coral-density",
   "metadata": {
    "scrolled": true
   },
   "source": [
    "First of all, we need to list several potential and observed anomalies.\n",
    "1. Is there any repeated sales_id?\n",
    "2. Is all the date in same format?\n",
    "3. Invalid time (eg.29:05:48)\n",
    "4. Is there any repeated items in shopping cart. (eg.[('side_table', 1), ('side_table', 1)])\n",
    "5. Invalid price. (eg.S)\n",
    "6. There are parcel size not in \"small, medium, large\" (eg.S,M,L)\n",
    "7. Invalid customer location; possibly inversed latitude and longtitude. (eg.142.69779, -35.81405)\n",
    "8. Is all loyalty program data either in \"True\" or \"False\"?\n",
    "9. Base on storehouse and customer location, are all the nearest stores correct?\n",
    "10. Any unmatched storehourse id? \n",
    "11. Is delivery_cost correct?"
   ]
  },
  {
   "cell_type": "code",
   "execution_count": 3,
   "id": "fleet-suspension",
   "metadata": {},
   "outputs": [],
   "source": [
    "dict_id = {}\n",
    "for i in dirty.sales_id:\n",
    "    if i not in dict_id:\n",
    "        dict_id[i] = 1\n",
    "    else:\n",
    "        dict_id[i] += 1"
   ]
  },
  {
   "cell_type": "markdown",
   "id": "accessible-soviet",
   "metadata": {},
   "source": [
    "Tranfer all the data of sales_id into dictionary; use id as key, and count of occurrence as item."
   ]
  },
  {
   "cell_type": "code",
   "execution_count": 4,
   "id": "egyptian-process",
   "metadata": {},
   "outputs": [
    {
     "data": {
      "text/plain": [
       "True"
      ]
     },
     "execution_count": 4,
     "metadata": {},
     "output_type": "execute_result"
    }
   ],
   "source": [
    "len(dict_id) == len(dirty.sales_id)"
   ]
  },
  {
   "cell_type": "markdown",
   "id": "accepted-coalition",
   "metadata": {},
   "source": [
    "Length of the dictionary and sales_id matches, means no repeat id."
   ]
  },
  {
   "cell_type": "code",
   "execution_count": 5,
   "id": "wrong-manufacturer",
   "metadata": {},
   "outputs": [
    {
     "data": {
      "text/plain": [
       "115              20/06/2018\n",
       "116              10/08/2020\n",
       "117    Thursday 20, 05 2021\n",
       "118              08/09/2020\n",
       "119              28/12/2019\n",
       "120              2021-08-01\n",
       "121              17/03/2020\n",
       "122      Sunday 19, 07 2020\n",
       "123              17/09/2020\n",
       "124              2018-03-12\n",
       "Name: date, dtype: object"
      ]
     },
     "execution_count": 5,
     "metadata": {},
     "output_type": "execute_result"
    }
   ],
   "source": [
    "dirty.date[115:125]"
   ]
  },
  {
   "cell_type": "markdown",
   "id": "executed-shopper",
   "metadata": {},
   "source": [
    "By checking random date, some invaild format are found. (Sunday 14, 01 2018,2019-12-13)"
   ]
  },
  {
   "cell_type": "markdown",
   "id": "mineral-october",
   "metadata": {},
   "source": [
    "## 2. Fix Invalid Date Format."
   ]
  },
  {
   "cell_type": "code",
   "execution_count": 6,
   "id": "reliable-telescope",
   "metadata": {},
   "outputs": [],
   "source": [
    "for x,y in dirty.iterrows():\n",
    "    i = y.date\n",
    "    if \"-\" not in i:\n",
    "        if len(i) == 10:\n",
    "            day = i[0:2]\n",
    "            mon = i[3:5]\n",
    "            year = i[6:10]\n",
    "            i = day + '-' + mon + '-' +year\n",
    "        else:\n",
    "            i = i[-11:]\n",
    "            day = i[0:2]\n",
    "            mon = i[4:6]\n",
    "            year = i[7:11]\n",
    "            i = day + '-' + mon +'-' + year        \n",
    "    else: \n",
    "        day = i[-2:]\n",
    "        mon = i[5:7]\n",
    "        year = i[0:4]\n",
    "        i = day + '-' + mon +'-' + year\n",
    "    dirty.loc[x,'date'] = i"
   ]
  },
  {
   "cell_type": "markdown",
   "id": "ecological-posting",
   "metadata": {},
   "source": [
    "day, month and year are selected respectively, and rearranged into corrected format."
   ]
  },
  {
   "cell_type": "markdown",
   "id": "found-scott",
   "metadata": {},
   "source": [
    "## 3. Fix Invalid time."
   ]
  },
  {
   "cell_type": "code",
   "execution_count": 7,
   "id": "civilian-surname",
   "metadata": {},
   "outputs": [
    {
     "name": "stdout",
     "output_type": "stream",
     "text": [
      "['56:07:25', '24:16:59', '32:02:13', '37:23:24', '58:04:38', '47:23:17', '41:15:56', '49:06:36']\n"
     ]
    }
   ],
   "source": [
    "wrong_time = []\n",
    "for x,y in dirty.iterrows():\n",
    "    i = y.time\n",
    "    hr = int(i[0:2])\n",
    "    mins = int(i[3:5])\n",
    "    sec = int(i[6:8])\n",
    "    if hr >= 24 or mins >= 60 or sec >= 60:\n",
    "        wrong_time.append(i)  \n",
    "print(wrong_time[0:8])"
   ]
  },
  {
   "cell_type": "markdown",
   "id": "athletic-family",
   "metadata": {},
   "source": [
    "Very likely inversed hour and mins."
   ]
  },
  {
   "cell_type": "code",
   "execution_count": 8,
   "id": "relative-investor",
   "metadata": {},
   "outputs": [],
   "source": [
    "for x,y in dirty.iterrows():\n",
    "    i = y.time\n",
    "    hr = i[0:2]\n",
    "    mins = i[3:5]\n",
    "    sec = i[6:8]\n",
    "    if int(hr) >= 24:               \n",
    "        new_time = mins + \":\" + hr + \":\" + sec\n",
    "        dirty.loc[x,'time'] = new_time"
   ]
  },
  {
   "cell_type": "markdown",
   "id": "controlled-cassette",
   "metadata": {},
   "source": [
    "Similar to date, hour, mins and seconds are selected respectively. By using mod, they are valid values now."
   ]
  },
  {
   "cell_type": "code",
   "execution_count": 14,
   "id": "respected-growth",
   "metadata": {},
   "outputs": [
    {
     "data": {
      "text/plain": [
       "135"
      ]
     },
     "execution_count": 14,
     "metadata": {},
     "output_type": "execute_result"
    }
   ],
   "source": [
    "count = 0\n",
    "for i,j in dirty.iterrows():\n",
    "    lat,long = j.Customer_lat,j.Customer_long\n",
    "    if long < lat:\n",
    "        count += 1\n",
    "count"
   ]
  },
  {
   "cell_type": "markdown",
   "id": "timely-probability",
   "metadata": {},
   "source": [
    "From the dataset, we can tell latitude is a negative value, and longtitude is positive.\n",
    "\n",
    "So, if a customer`s latitude is bigger than longtitude, the location is invalid."
   ]
  },
  {
   "cell_type": "code",
   "execution_count": 15,
   "id": "aging-polymer",
   "metadata": {},
   "outputs": [],
   "source": [
    "for i,j in dirty.iterrows():\n",
    "    lat,long = j.Customer_lat,j.Customer_long\n",
    "    if long < lat:\n",
    "        dirty.loc[i,'Customer_lat'] = long\n",
    "        dirty.loc[i,'Customer_long'] = lat    "
   ]
  },
  {
   "cell_type": "code",
   "execution_count": 21,
   "id": "funky-twist",
   "metadata": {},
   "outputs": [],
   "source": [
    "def distance(lat1,lon1,lat2,lon2):\n",
    "    R = 6373.0\n",
    "    lat1 = radians(lat1)\n",
    "    lon1 = radians(lon1)\n",
    "    lat2 = radians(lat2)\n",
    "    lon2 = radians(lon2)\n",
    "    dlon = lon2 - lon1\n",
    "    dlat = lat2 - lat1\n",
    "    a = sin(dlat / 2)**2 + cos(lat1) * cos(lat2) * sin(dlon / 2)**2\n",
    "    c = 2 * atan2(sqrt(a), sqrt(1 - a))\n",
    "    distance = R * c \n",
    "    return distance"
   ]
  },
  {
   "cell_type": "markdown",
   "id": "joined-scratch",
   "metadata": {},
   "source": [
    "This is a mathematical function to calculate the distance based on geographic location.\n",
    "I found this function on https://stackoverflow.com/questions/19412462/getting-distance-between-two-points-based-on-latitude-longitude."
   ]
  },
  {
   "cell_type": "code",
   "execution_count": 22,
   "id": "disturbed-surge",
   "metadata": {},
   "outputs": [
    {
     "data": {
      "text/plain": [
       "73"
      ]
     },
     "execution_count": 22,
     "metadata": {},
     "output_type": "execute_result"
    }
   ],
   "source": [
    "count = 0\n",
    "wrong_dis = []\n",
    "for x,y in dirty.iterrows():    \n",
    "    house = y.nearest_storehouse\n",
    "    dis = y.dist_to_nearest_storehouse\n",
    "    lat1,lon1 = y.Customer_lat,y.Customer_long\n",
    "    lat2,lon2 = houseDict[house]\n",
    "    dis_cal = distance(lat1,lon1,lat2,lon2)\n",
    "    if abs(dis - dis_cal)/dis_cal > 0.001:\n",
    "        count += 1 \n",
    "        wrong_dis.append(x)\n",
    "count"
   ]
  },
  {
   "cell_type": "code",
   "execution_count": 23,
   "id": "circular-significance",
   "metadata": {},
   "outputs": [],
   "source": [
    "for x,y in dirty.iterrows():\n",
    "    if x in wrong_dis:\n",
    "        short_dis = float('inf')\n",
    "        lat1,lon1 = y.Customer_lat,y.Customer_long\n",
    "        for store in houseDict:\n",
    "            lat2,lon2 = houseDict[store]\n",
    "            dis_cal = distance(lat1,lon1,lat2,lon2)\n",
    "            if dis_cal < short_dis:\n",
    "                short_dis = dis_cal\n",
    "                dirty.loc[x,'dist_to_nearest_storehouse'] = round(short_dis,2)\n",
    "                dirty.loc[x,'nearest_storehouse'] = store"
   ]
  },
  {
   "cell_type": "code",
   "execution_count": 24,
   "id": "acquired-theory",
   "metadata": {},
   "outputs": [
    {
     "data": {
      "text/plain": [
       "0"
      ]
     },
     "execution_count": 24,
     "metadata": {},
     "output_type": "execute_result"
    }
   ],
   "source": [
    "count = 0\n",
    "for x,y in dirty.iterrows():    \n",
    "    house = y.nearest_storehouse\n",
    "    dis = y.dist_to_nearest_storehouse\n",
    "    lat1,lon1 = y.Customer_lat,y.Customer_long\n",
    "    lat2,lon2 = houseDict[house]\n",
    "    dis_cal = distance(lat1,lon1,lat2,lon2)\n",
    "    if abs(dis - dis_cal)/dis_cal > 0.001:\n",
    "        count += 1 \n"
   ]
  },
  {
   "cell_type": "markdown",
   "id": "advance-annex",
   "metadata": {},
   "source": [
    "## 1.Import Data"
   ]
  },
  {
   "cell_type": "code",
   "execution_count": 26,
   "id": "romantic-consumer",
   "metadata": {},
   "outputs": [],
   "source": [
    "outlier = pd.read_csv(\"/Users/chengkun/Desktop/5196ass2/31951996_outlier_data.csv\")"
   ]
  },
  {
   "cell_type": "markdown",
   "id": "expressed-rehabilitation",
   "metadata": {},
   "source": [
    "no outlier in 'nearest_storehouse_id'."
   ]
  },
  {
   "cell_type": "code",
   "execution_count": 35,
   "id": "veterinary-lesbian",
   "metadata": {},
   "outputs": [
    {
     "data": {
      "text/plain": [
       "<AxesSubplot:>"
      ]
     },
     "execution_count": 35,
     "metadata": {},
     "output_type": "execute_result"
    },
    {
     "data": {
      "image/png": "[encoded data removed]",
      "text/plain": [
       "<Figure size 432x288 with 1 Axes>"
      ]
     },
     "metadata": {
      "needs_background": "light"
     },
     "output_type": "display_data"
    }
   ],
   "source": [
    "outlier.boxplot(column = 'dist_to_nearest_storehouse')"
   ]
  },
  {
   "cell_type": "markdown",
   "id": "clean-feeding",
   "metadata": {},
   "source": [
    "no outlier in 'dist_to_nearest_storehouse'."
   ]
  },
  {
   "cell_type": "code",
   "execution_count": 36,
   "id": "olive-citation",
   "metadata": {},
   "outputs": [
    {
     "data": {
      "text/plain": [
       "<AxesSubplot:>"
      ]
     },
     "execution_count": 36,
     "metadata": {},
     "output_type": "execute_result"
    },
    {
     "data": {
      "image/png": "[encoded data removed]",
      "text/plain": [
       "<Figure size 432x288 with 1 Axes>"
      ]
     },
     "metadata": {
      "needs_background": "light"
     },
     "output_type": "display_data"
    }
   ],
   "source": [
    "outlier.boxplot(column = 'delivery_cost')"
   ]
  },
  {
   "cell_type": "markdown",
   "id": "mounted-words",
   "metadata": {},
   "source": [
    "There are outliers in 'delivery_cost'."
   ]
  },
  {
   "cell_type": "code",
   "execution_count": 37,
   "id": "interstate-hamburg",
   "metadata": {},
   "outputs": [
    {
     "data": {
      "text/plain": [
       "200"
      ]
     },
     "execution_count": 37,
     "metadata": {},
     "output_type": "execute_result"
    }
   ],
   "source": [
    "len(outlier.delivery_cost)"
   ]
  },
  {
   "cell_type": "markdown",
   "id": "waiting-league",
   "metadata": {},
   "source": [
    "The length of dataframe will be used as comparsion to ensure outliers are removed."
   ]
  },
  {
   "cell_type": "code",
   "execution_count": 38,
   "id": "supreme-stomach",
   "metadata": {},
   "outputs": [],
   "source": [
    "q1, q3 = np.percentile(sorted(outlier.delivery_cost),[25,75])\n",
    "iqr = q3 - q1\n",
    "low_limit = q1 -(1.5 * iqr) \n",
    "high_limit = q3 +(1.5 * iqr) "
   ]
  },
  {
   "cell_type": "markdown",
   "id": "aboriginal-cooling",
   "metadata": {},
   "source": [
    "interquartile range (IQR), quartile 1 (Q1) and quartile 3 (Q3) are caculated to locate outliers."
   ]
  },
  {
   "cell_type": "markdown",
   "id": "funded-partnership",
   "metadata": {},
   "source": [
    "I got the idea from the following website.\n",
    "https://medium.datadriveninvestor.com/finding-outliers-in-dataset-using-python-efc3fce6ce32"
   ]
  },
  {
   "cell_type": "code",
   "execution_count": 39,
   "id": "spatial-pizza",
   "metadata": {},
   "outputs": [
    {
     "data": {
      "text/plain": [
       "9"
      ]
     },
     "execution_count": 39,
     "metadata": {},
     "output_type": "execute_result"
    }
   ],
   "source": [
    "count = 0\n",
    "for x,y in outlier.iterrows():\n",
    "    cost = y.delivery_cost\n",
    "    if cost > high_limit or cost < low_limit:\n",
    "        outlier = outlier.drop(x)\n",
    "        count += 1\n",
    "count"
   ]
  },
  {
   "cell_type": "markdown",
   "id": "stock-german",
   "metadata": {},
   "source": [
    "Any value bigger than upper limit or smaller than lower limit will be removed."
   ]
  },
  {
   "cell_type": "code",
   "execution_count": 40,
   "id": "facial-observer",
   "metadata": {},
   "outputs": [
    {
     "data": {
      "text/plain": [
       "191"
      ]
     },
     "execution_count": 40,
     "metadata": {},
     "output_type": "execute_result"
    }
   ],
   "source": [
    "len(outlier.delivery_cost)"
   ]
  },
  {
   "cell_type": "markdown",
   "id": "golden-aside",
   "metadata": {},
   "source": [
    "200 - 9 = 191, all outliers are removed."
   ]
  },
  {
   "cell_type": "code",
   "execution_count": 41,
   "id": "ready-chuck",
   "metadata": {},
   "outputs": [],
   "source": [
    "missing = pd.read_csv(\"/Users/chengkun/Desktop/5196ass2/31951996_missing_data.csv\")"
   ]
  },
  {
   "cell_type": "markdown",
   "id": "warming-framing",
   "metadata": {},
   "source": [
    "Import CSV file"
   ]
  },
  {
   "cell_type": "code",
   "execution_count": 43,
   "id": "invisible-medicare",
   "metadata": {},
   "outputs": [],
   "source": [
    "for x,y in missing.iterrows():\n",
    "    for i in item_dict:\n",
    "        total_price = 0\n",
    "        cart = y.shopping_cart\n",
    "        each = ast.literal_eval(cart)\n",
    "        for j in each:\n",
    "            total_price += (item_dict[j[0]])*j[1]\n",
    "            missing.loc[x,'price'] = round(total_price,2)"
   ]
  },
  {
   "cell_type": "code",
   "execution_count": 45,
   "id": "colonial-funds",
   "metadata": {},
   "outputs": [],
   "source": [
    "for x,y in missing.iterrows():\n",
    "    if y.isLoyaltyProgram == True:\n",
    "        missing.loc[x,'cost_cal'] = y.delivery_cost/0.9\n",
    "    else:\n",
    "        missing.loc[x,'cost_cal'] = y.delivery_cost"
   ]
  },
  {
   "cell_type": "markdown",
   "id": "regional-annotation",
   "metadata": {},
   "source": [
    "Add three new columns to the dataframe to help build linear regression, where 'cost_cal' is the real cost before discount."
   ]
  },
  {
   "cell_type": "code",
   "execution_count": 46,
   "id": "genetic-hamburg",
   "metadata": {},
   "outputs": [],
   "source": [
    "missing.loc[missing.date.apply(lambda x: x.split('/')[1] in ['12','01','02']),'season'] = 1\n",
    "missing.loc[missing.date.apply(lambda x: x.split('/')[1] in ['03','04','05']),'season'] = 2\n",
    "missing.loc[missing.date.apply(lambda x: x.split('/')[1] in ['06','07','08']),'season'] = 3\n",
    "missing.loc[missing.date.apply(lambda x: x.split('/')[1] in ['09','10','11']),'season'] = 4\n",
    "missing.loc[missing.parcel_size == 'small','parcel'] = 1\n",
    "missing.loc[missing.parcel_size == 'medium','parcel'] = 2\n",
    "missing.loc[missing.parcel_size == 'large','parcel'] = 3"
   ]
  },
  {
   "cell_type": "markdown",
   "id": "irish-aurora",
   "metadata": {},
   "source": [
    "Write values into the empty columns.\n",
    "In 'season':\n",
    "'1' for Summer;\n",
    "'2' for Autumn;\n",
    "'3' for Winter;\n",
    "'4' for Spring.\n",
    "\n",
    "In 'parcel':\n",
    "'1' for small;\n",
    "'2' for medium;\n",
    "'3' for big.\n",
    "\n",
    "'dist_to_nearest_storehouse','season','parcel','nearest_storehouse_id' and 'isLoyaltyProgram' are assumed to be the factors that affect delivery price."
   ]
  },
  {
   "cell_type": "markdown",
   "id": "extreme-tenant",
   "metadata": {},
   "source": [
    "Check if the new columns are filled with correct value"
   ]
  },
  {
   "cell_type": "markdown",
   "id": "confidential-postage",
   "metadata": {},
   "source": [
    "find the index for empty value, and store them into a list \"miss_index\"."
   ]
  },
  {
   "cell_type": "code",
   "execution_count": 49,
   "id": "blessed-teach",
   "metadata": {},
   "outputs": [],
   "source": [
    "values = missing.dropna()"
   ]
  },
  {
   "cell_type": "markdown",
   "id": "significant-anthropology",
   "metadata": {},
   "source": [
    "find the rows that do not have a missing value."
   ]
  },
  {
   "cell_type": "code",
   "execution_count": 50,
   "id": "united-fence",
   "metadata": {},
   "outputs": [
    {
     "data": {
      "text/plain": [
       "0.7392540288171507"
      ]
     },
     "execution_count": 50,
     "metadata": {},
     "output_type": "execute_result"
    }
   ],
   "source": [
    "x = values[['dist_to_nearest_storehouse','season','parcel','nearest_storehouse_id']]\n",
    "y = values.cost_cal\n",
    "reg = LinearRegression().fit(x,y)\n",
    "reg.score(x,y)"
   ]
  },
  {
   "cell_type": "markdown",
   "id": "extreme-panic",
   "metadata": {},
   "source": [
    "calculate the score for Linear Regression, 0.74 is a fair number (1 means perfect linear)"
   ]
  },
  {
   "cell_type": "markdown",
   "id": "precious-party",
   "metadata": {},
   "source": [
    "write the predict value into the dataframe, if a customer is in  LoyaltyProgram, he/she get 10% off."
   ]
  },
  {
   "cell_type": "code",
   "execution_count": 52,
   "id": "advised-brook",
   "metadata": {},
   "outputs": [
    {
     "name": "stdout",
     "output_type": "stream",
     "text": [
      "7.497232311542465\n",
      "6.546758206327447\n",
      "6.5715223638147515\n",
      "6.212567875735545\n",
      "6.120809279472726\n",
      "7.528383121717916\n",
      "6.774602161703918\n",
      "7.291705383717986\n",
      "6.135014660294502\n",
      "6.1871192389440495\n",
      "7.091297876448131\n",
      "16.93458320581663\n",
      "19.225415875256225\n",
      "5.706457798469648\n",
      "6.192341751179019\n",
      "16.393620942518588\n"
     ]
    }
   ],
   "source": [
    "for x,y in missing.iterrows():\n",
    "    if x in miss_index:\n",
    "        print(y.delivery_cost)"
   ]
  },
  {
   "cell_type": "markdown",
   "id": "systematic-nitrogen",
   "metadata": {},
   "source": [
    "Check the written missing value."
   ]
  },
  {
   "cell_type": "markdown",
   "id": "broke-heater",
   "metadata": {},
   "source": [
    "## Reference\n",
    "https://www.geeksforgeeks.org/python-join-tuples-if-similar-initial-element/\n",
    "    \n",
    "https://www.geeksforgeeks.org/python-find-most-frequent-element-in-a-list/\n",
    "\n",
    "https://stackoverflow.com/questions/19412462/getting-distance-between-two-points-based-on-latitude-longitude"
   ]
  }
 ],
 "metadata": {
  "kernelspec": {
   "display_name": "Python 3",
   "language": "python",
   "name": "python3"
  },
  "language_info": {
   "codemirror_mode": {
    "name": "ipython",
    "version": 3
   },
   "file_extension": ".py",
   "mimetype": "text/x-python",
   "name": "python",
   "nbconvert_exporter": "python",
   "pygments_lexer": "ipython3",
   "version": "3.8.5"
  }
 },
 "nbformat": 4,
 "nbformat_minor": 5
}
